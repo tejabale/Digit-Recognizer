{
 "cells": [
  {
   "cell_type": "code",
   "execution_count": 28,
   "metadata": {
    "_cell_guid": "b1076dfc-b9ad-4769-8c92-a6c4dae69d19",
    "_uuid": "8f2839f25d086af736a60e9eeb907d3b93b6e0e5",
    "execution": {
     "iopub.execute_input": "2022-06-10T22:02:18.776917Z",
     "iopub.status.busy": "2022-06-10T22:02:18.776401Z",
     "iopub.status.idle": "2022-06-10T22:02:18.785811Z",
     "shell.execute_reply": "2022-06-10T22:02:18.785072Z",
     "shell.execute_reply.started": "2022-06-10T22:02:18.776821Z"
    }
   },
   "outputs": [],
   "source": [
    "import numpy as np\n",
    "import pandas as pd\n",
    "from matplotlib import pyplot as plt"
   ]
  },
  {
   "cell_type": "code",
   "execution_count": 29,
   "metadata": {
    "execution": {
     "iopub.execute_input": "2022-06-10T22:02:18.797223Z",
     "iopub.status.busy": "2022-06-10T22:02:18.796639Z",
     "iopub.status.idle": "2022-06-10T22:02:21.140382Z",
     "shell.execute_reply": "2022-06-10T22:02:21.139237Z",
     "shell.execute_reply.started": "2022-06-10T22:02:18.797184Z"
    }
   },
   "outputs": [],
   "source": [
    "data = pd.read_csv('train.csv')"
   ]
  },
  {
   "cell_type": "code",
   "execution_count": 30,
   "metadata": {
    "execution": {
     "iopub.execute_input": "2022-06-10T22:02:21.142924Z",
     "iopub.status.busy": "2022-06-10T22:02:21.142254Z",
     "iopub.status.idle": "2022-06-10T22:02:21.254258Z",
     "shell.execute_reply": "2022-06-10T22:02:21.253417Z",
     "shell.execute_reply.started": "2022-06-10T22:02:21.142875Z"
    }
   },
   "outputs": [],
   "source": [
    "data = np.array(data)"
   ]
  },
  {
   "cell_type": "code",
   "execution_count": 31,
   "metadata": {
    "execution": {
     "iopub.execute_input": "2022-06-10T22:02:21.255655Z",
     "iopub.status.busy": "2022-06-10T22:02:21.255380Z",
     "iopub.status.idle": "2022-06-10T22:02:21.266182Z",
     "shell.execute_reply": "2022-06-10T22:02:21.264834Z",
     "shell.execute_reply.started": "2022-06-10T22:02:21.255629Z"
    }
   },
   "outputs": [],
   "source": [
    "label = data[:,0][np.newaxis].T\n",
    "train = data[0:10000,1:]\n",
    "test = data[10000:20000,1:]\n",
    "m,n = train.shape\n",
    "\n",
    "def forward_propagation(x, thetaih,biasih, thetaho, biasho ):\n",
    "    ah = np.dot(thetaih,x.T) + biasih\n",
    "    gh = 1/(1 + np.exp(-ah))\n",
    "    ao = np.dot(thetaho,gh) + biasho\n",
    "    go = 1/(1 + np.exp(-ao))\n",
    "    \n",
    "    return ah,gh,ao,go\n",
    "    \n",
    "def back_propagation(go,label,gh,alpha,thetaho,x1_train ):\n",
    "    delo = go.copy()\n",
    "    delo[label] -= 1\n",
    "    up_thetaho = (np.dot(delo, gh.T))*(-alpha)\n",
    "    up_biasho = (delo)*(-alpha)\n",
    "    delh = (thetaho.T@delo)*((gh)*(1-gh))\n",
    "    up_thetaih = (np.dot(delh, x1_train))*(-alpha)\n",
    "    up_biasih = (delh)*(-alpha)\n",
    "    \n",
    "    return up_thetaho,up_biasho,up_thetaih,up_biasih\n",
    "\n",
    "def update_parameters(thetaho,biasho,thetaih,biasih, up_thetaho,up_biasho,up_thetaih,up_biasih ):\n",
    "    thetaho += up_thetaho\n",
    "    biasho += up_biasho\n",
    "    thetaih += up_thetaih\n",
    "    biasih += up_biasih\n",
    "    \n",
    "    return thetaho,biasho,thetaih,biasih\n",
    "\n",
    "def get_accuracy(correct_predictions,no_predictions):\n",
    "    print(\"Accuracy after \", no_predictions , \" predictions\",  100*(correct_predictions/no_predictions) )\n",
    "    \n",
    "    \n",
    "    "
   ]
  },
  {
   "cell_type": "code",
   "execution_count": 32,
   "metadata": {
    "execution": {
     "iopub.execute_input": "2022-06-10T22:02:21.268485Z",
     "iopub.status.busy": "2022-06-10T22:02:21.268088Z",
     "iopub.status.idle": "2022-06-10T22:03:27.541500Z",
     "shell.execute_reply": "2022-06-10T22:03:27.540390Z",
     "shell.execute_reply.started": "2022-06-10T22:02:21.268449Z"
    }
   },
   "outputs": [
    {
     "name": "stdout",
     "output_type": "stream",
     "text": [
      "Accuracy after  10000  predictions 61.78\n",
      "Accuracy after  20000  predictions 73.065\n",
      "Accuracy after  30000  predictions 78.03999999999999\n",
      "Accuracy after  40000  predictions 80.88499999999999\n",
      "Accuracy after  50000  predictions 82.758\n",
      "Accuracy after  60000  predictions 84.12666666666667\n",
      "Accuracy after  70000  predictions 85.17714285714287\n",
      "Accuracy after  80000  predictions 86.00999999999999\n",
      "Accuracy after  90000  predictions 86.69\n",
      "Accuracy after  100000  predictions 87.26\n",
      "Accuracy after  110000  predictions 87.75\n",
      "Accuracy after  120000  predictions 88.1725\n",
      "Accuracy after  130000  predictions 88.55384615384615\n",
      "Accuracy after  140000  predictions 88.89857142857143\n",
      "Accuracy after  150000  predictions 89.20866666666667\n",
      "Accuracy after  160000  predictions 89.49312499999999\n",
      "Accuracy after  170000  predictions 89.75529411764705\n",
      "Accuracy after  180000  predictions 89.99555555555555\n",
      "Accuracy after  190000  predictions 90.21736842105264\n",
      "Accuracy after  200000  predictions 90.423\n",
      "Accuracy after  210000  predictions 90.61571428571429\n",
      "Accuracy after  220000  predictions 90.79318181818182\n",
      "Accuracy after  230000  predictions 90.9608695652174\n",
      "Accuracy after  240000  predictions 91.11666666666667\n",
      "Accuracy after  250000  predictions 91.26520000000001\n",
      "Accuracy after  260000  predictions 91.40653846153846\n",
      "Accuracy after  270000  predictions 91.54148148148148\n",
      "Accuracy after  280000  predictions 91.67035714285714\n",
      "Accuracy after  290000  predictions 91.79137931034482\n",
      "Accuracy after  300000  predictions 91.91066666666666\n",
      "Accuracy after  310000  predictions 92.02483870967741\n",
      "Accuracy after  320000  predictions 92.1334375\n",
      "Accuracy after  330000  predictions 92.23727272727272\n",
      "Accuracy after  340000  predictions 92.33617647058824\n",
      "Accuracy after  350000  predictions 92.43085714285715\n",
      "Accuracy after  360000  predictions 92.52222222222221\n",
      "Accuracy after  370000  predictions 92.60972972972972\n",
      "Accuracy after  380000  predictions 92.69342105263158\n",
      "Accuracy after  390000  predictions 92.77410256410256\n",
      "Accuracy after  400000  predictions 92.8515\n",
      "Accuracy after  410000  predictions 92.9260975609756\n",
      "Accuracy after  420000  predictions 92.99857142857142\n",
      "Accuracy after  430000  predictions 93.06883720930233\n",
      "Accuracy after  440000  predictions 93.13749999999999\n",
      "Accuracy after  450000  predictions 93.20422222222223\n",
      "Accuracy after  460000  predictions 93.26913043478261\n",
      "Accuracy after  470000  predictions 93.33148936170213\n",
      "Accuracy after  480000  predictions 93.39291666666666\n",
      "Accuracy after  490000  predictions 93.45244897959184\n",
      "Accuracy after  500000  predictions 93.5108\n",
      "Accuracy after  510000  predictions 93.56764705882354\n",
      "Accuracy after  520000  predictions 93.62269230769232\n",
      "Accuracy after  530000  predictions 93.67622641509435\n",
      "Accuracy after  540000  predictions 93.72796296296296\n",
      "Accuracy after  550000  predictions 93.77872727272727\n",
      "Accuracy after  560000  predictions 93.82821428571428\n",
      "Accuracy after  570000  predictions 93.87719298245614\n",
      "Accuracy after  580000  predictions 93.92534482758622\n",
      "Accuracy after  590000  predictions 93.97220338983051\n",
      "Accuracy after  600000  predictions 94.01833333333333\n",
      "Accuracy after  610000  predictions 94.06344262295082\n",
      "Accuracy after  620000  predictions 94.10806451612903\n",
      "Accuracy after  630000  predictions 94.15222222222222\n",
      "Accuracy after  640000  predictions 94.195625\n",
      "Accuracy after  650000  predictions 94.23830769230769\n",
      "Accuracy after  660000  predictions 94.27984848484849\n",
      "Accuracy after  670000  predictions 94.32104477611941\n",
      "Accuracy after  680000  predictions 94.36147058823529\n",
      "Accuracy after  690000  predictions 94.40144927536231\n",
      "Accuracy after  700000  predictions 94.441\n",
      "Accuracy after  710000  predictions 94.47985915492958\n",
      "Accuracy after  720000  predictions 94.51833333333333\n",
      "Accuracy after  730000  predictions 94.55630136986302\n",
      "Accuracy after  740000  predictions 94.59364864864865\n",
      "Accuracy after  750000  predictions 94.63013333333333\n",
      "Accuracy after  760000  predictions 94.66618421052631\n",
      "Accuracy after  770000  predictions 94.70155844155845\n",
      "Accuracy after  780000  predictions 94.73602564102565\n",
      "Accuracy after  790000  predictions 94.77\n",
      "Accuracy after  800000  predictions 94.80324999999999\n",
      "Accuracy after  810000  predictions 94.83592592592592\n",
      "Accuracy after  820000  predictions 94.86792682926828\n",
      "Accuracy after  830000  predictions 94.89939759036145\n",
      "Accuracy after  840000  predictions 94.93047619047618\n",
      "Accuracy after  850000  predictions 94.96082352941177\n",
      "Accuracy after  860000  predictions 94.99081395348837\n",
      "Accuracy after  870000  predictions 95.02057471264368\n",
      "Accuracy after  880000  predictions 95.04965909090909\n",
      "Accuracy after  890000  predictions 95.07808988764044\n",
      "Accuracy after  900000  predictions 95.106\n",
      "Accuracy after  910000  predictions 95.13340659340659\n",
      "Accuracy after  920000  predictions 95.16032608695653\n",
      "Accuracy after  930000  predictions 95.18677419354839\n",
      "Accuracy after  940000  predictions 95.21308510638298\n",
      "Accuracy after  950000  predictions 95.23915789473683\n",
      "Accuracy after  960000  predictions 95.26479166666667\n",
      "Accuracy after  970000  predictions 95.28999999999999\n",
      "Accuracy after  980000  predictions 95.31500000000001\n",
      "Accuracy after  990000  predictions 95.33949494949495\n",
      "Accuracy after  1000000  predictions 95.3636\n"
     ]
    }
   ],
   "source": [
    "biasih = np.random.rand(10,1)\n",
    "biasho = np.random.rand(10,1)\n",
    "thetaih = np.random.rand(10,n)\n",
    "thetaho = np.random.rand(10,10)\n",
    "thetaih = thetaih - 0.5\n",
    "thetaho = thetaho - 0.5\n",
    "biasih = biasih - 0.5\n",
    "biasho = biasho - 0.5\n",
    "alpha = 0.01 #learning rate\n",
    "\n",
    "correct_predictions = 0\n",
    "no_predictions = 0\n",
    "\n",
    "for round in range(100):\n",
    "    for i in range(m):\n",
    "        x1_train = train[i,:][np.newaxis]\n",
    "        x1_train = x1_train/255 \n",
    "        \n",
    "        #forward propagation\n",
    "        ah,gh,ao,go = forward_propagation(x1_train, thetaih,biasih, thetaho, biasho )\n",
    "        \n",
    "        if(np.argmax(go)==label[i]):\n",
    "            correct_predictions+=1\n",
    "        no_predictions+=1\n",
    "        \n",
    "        \n",
    "        #backward propagation\n",
    "        up_thetaho,up_biasho,up_thetaih,up_biasih = back_propagation(go,label[i],gh,alpha,thetaho,x1_train)\n",
    "        \n",
    "        #updating parameters\n",
    "        thetaho,biasho,thetaih,biasih = update_parameters(thetaho,biasho,thetaih,biasih, up_thetaho,up_biasho,up_thetaih,up_biasih )\n",
    "        \n",
    "    get_accuracy(correct_predictions,no_predictions)\n",
    "\n",
    "    \n",
    "\n"
   ]
  },
  {
   "cell_type": "code",
   "execution_count": 34,
   "metadata": {
    "execution": {
     "iopub.execute_input": "2022-06-10T22:07:20.774722Z",
     "iopub.status.busy": "2022-06-10T22:07:20.774376Z",
     "iopub.status.idle": "2022-06-10T22:07:20.946073Z",
     "shell.execute_reply": "2022-06-10T22:07:20.945132Z",
     "shell.execute_reply.started": "2022-06-10T22:07:20.774693Z"
    }
   },
   "outputs": [
    {
     "name": "stdout",
     "output_type": "stream",
     "text": [
      "Image selected :\n"
     ]
    },
    {
     "data": {
      "image/png": "[encoded data removed]",
      "text/plain": [
       "<Figure size 432x288 with 1 Axes>"
      ]
     },
     "metadata": {
      "needs_background": "light"
     },
     "output_type": "display_data"
    },
    {
     "name": "stdout",
     "output_type": "stream",
     "text": [
      "Prediction:  7\n"
     ]
    },
    {
     "name": "stderr",
     "output_type": "stream",
     "text": [
      "C:\\Users\\tejabale\\AppData\\Local\\Temp\\ipykernel_8412\\320924301.py:9: RuntimeWarning: overflow encountered in exp\n",
      "  gh = 1/(1 + np.exp(-ah))\n"
     ]
    }
   ],
   "source": [
    "#choosing images other than the training set to check results\n",
    "#choose some number between (10,000 - 20,000)\n",
    "number = 10382\n",
    "img = data[number,1:].copy()\n",
    "img2 = img.copy()\n",
    "img2.resize(28,28)\n",
    "print(\"Image selected :\")\n",
    "plt.imshow(img2,interpolation='nearest')\n",
    "plt.show()\n",
    "ah,gh,ao,go = forward_propagation(img[np.newaxis], thetaih,biasih, thetaho, biasho )\n",
    "print(\"Prediction: \",np.argmax(go))"
   ]
  },
  {
   "cell_type": "code",
   "execution_count": null,
   "metadata": {},
   "outputs": [],
   "source": []
  }
 ],
 "metadata": {
  "kernelspec": {
   "display_name": "Python 3 (ipykernel)",
   "language": "python",
   "name": "python3"
  },
  "language_info": {
   "codemirror_mode": {
    "name": "ipython",
    "version": 3
   },
   "file_extension": ".py",
   "mimetype": "text/x-python",
   "name": "python",
   "nbconvert_exporter": "python",
   "pygments_lexer": "ipython3",
   "version": "3.10.5"
  }
 },
 "nbformat": 4,
 "nbformat_minor": 4
}
